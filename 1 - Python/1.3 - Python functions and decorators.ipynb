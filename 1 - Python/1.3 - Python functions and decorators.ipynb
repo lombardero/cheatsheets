{
 "cells": [
  {
   "cell_type": "markdown",
   "metadata": {},
   "source": [
    "# Functions and Decorators in Python"
   ]
  },
  {
   "cell_type": "markdown",
   "metadata": {},
   "source": [
    "## Functions"
   ]
  },
  {
   "cell_type": "markdown",
   "metadata": {},
   "source": [
    "Functions are python objects taking a set of arguments (or none), and performing a set of operations. They can be held un-executed.\n",
    "\n",
    "Functions are first-class citizens in python, meaning they can be passed as arguments in other functions, returned by other functions, and even assigned to variables."
   ]
  },
  {
   "cell_type": "markdown",
   "metadata": {},
   "source": [
    "More info: https://www.youtube.com/watch?v=FsAPt_9Bf3U\n",
    "\n",
    "(Thank you Corey Schafer)"
   ]
  },
  {
   "cell_type": "markdown",
   "metadata": {},
   "source": [
    "### Example1: Functions can be assigned to variables"
   ]
  },
  {
   "cell_type": "code",
   "execution_count": 1,
   "metadata": {},
   "outputs": [],
   "source": [
    "def square(x):\n",
    "    return x*x"
   ]
  },
  {
   "cell_type": "code",
   "execution_count": 4,
   "metadata": {},
   "outputs": [
    {
     "data": {
      "text/plain": [
       "<function __main__.square(x)>"
      ]
     },
     "execution_count": 4,
     "metadata": {},
     "output_type": "execute_result"
    }
   ],
   "source": [
    "f = square\n",
    "f"
   ]
  },
  {
   "cell_type": "markdown",
   "metadata": {},
   "source": [
    "In this example, the variable f is set up equal to the function square (which is unexectuted, since there are no parenthesis). f is a function object equal to the square function object defined previously.\n",
    "\n",
    "The variable f can now be executed in the same way as the function square, as shown below."
   ]
  },
  {
   "cell_type": "code",
   "execution_count": 5,
   "metadata": {},
   "outputs": [
    {
     "data": {
      "text/plain": [
       "25"
      ]
     },
     "execution_count": 5,
     "metadata": {},
     "output_type": "execute_result"
    }
   ],
   "source": [
    "f(5)"
   ]
  },
  {
   "cell_type": "markdown",
   "metadata": {},
   "source": [
    "### Example 2: functions can be inserted in arguments"
   ]
  },
  {
   "cell_type": "code",
   "execution_count": 6,
   "metadata": {},
   "outputs": [],
   "source": [
    "def map_f (fun, array):\n",
    "    result = []\n",
    "    for i in array:\n",
    "        result.append(fun(i))\n",
    "    return result"
   ]
  },
  {
   "cell_type": "markdown",
   "metadata": {},
   "source": [
    "In this case, a function is created accepting another function as an argument. We can use the function variable f defined previously, and an input array of [1,2,3,4] to return the squares of the vector."
   ]
  },
  {
   "cell_type": "code",
   "execution_count": 7,
   "metadata": {},
   "outputs": [
    {
     "data": {
      "text/plain": [
       "[1, 4, 9, 16]"
      ]
     },
     "execution_count": 7,
     "metadata": {},
     "output_type": "execute_result"
    }
   ],
   "source": [
    "map_f(f,[1,2,3,4])"
   ]
  },
  {
   "cell_type": "markdown",
   "metadata": {},
   "source": [
    "### Example 3: functions can be returned"
   ]
  },
  {
   "cell_type": "code",
   "execution_count": 21,
   "metadata": {},
   "outputs": [],
   "source": [
    "def html_tag_msg(tag):\n",
    "    def wrap_msg(msg):\n",
    "        print ('<{0}>{1}</{0}>'.format(tag, msg))\n",
    "    return wrap_msg"
   ]
  },
  {
   "cell_type": "markdown",
   "metadata": {},
   "source": [
    "In this example, we define a function to create another function (which is returned). Calling ```html_tag_msg``` will create a ```wrap_msg``` function that will add the HTML ```tag``` specified. That function created can then be called to add the message we require."
   ]
  },
  {
   "cell_type": "code",
   "execution_count": 24,
   "metadata": {},
   "outputs": [
    {
     "data": {
      "text/plain": [
       "<function __main__.html_tag_msg.<locals>.wrap_msg(msg)>"
      ]
     },
     "execution_count": 24,
     "metadata": {},
     "output_type": "execute_result"
    }
   ],
   "source": [
    "h1 = html_tag_msg('h1')\n",
    "h1"
   ]
  },
  {
   "cell_type": "code",
   "execution_count": 25,
   "metadata": {},
   "outputs": [
    {
     "name": "stdout",
     "output_type": "stream",
     "text": [
      "<h1>Heading</h1>\n"
     ]
    }
   ],
   "source": [
    "h1('Heading')"
   ]
  },
  {
   "cell_type": "markdown",
   "metadata": {},
   "source": [
    "Note that the function ```wrap_msg``` remembered that ```'h1'``` was inserted as an argument of the outer function ```htm_tag_msg```, and still has access to it. This is allowed by a concept called closures."
   ]
  },
  {
   "cell_type": "markdown",
   "metadata": {},
   "source": [
    "## Closures"
   ]
  },
  {
   "cell_type": "markdown",
   "metadata": {},
   "source": [
    "Closures are the way Python 'remembers' inner variables that functions have access to.\n",
    "\"A closure closes over the free variables from their environment\"."
   ]
  },
  {
   "cell_type": "markdown",
   "metadata": {},
   "source": [
    "#### Example: creating a logger function"
   ]
  },
  {
   "cell_type": "code",
   "execution_count": 48,
   "metadata": {},
   "outputs": [],
   "source": [
    "def my_logger(funct):\n",
    "    import logging\n",
    "    logging.basicConfig(filename = 'example.log',\n",
    "                        level = logging.INFO)\n",
    "    def log_funct(*args):\n",
    "        logging.info('Running\"{}\" with arguments {}'.format(funct.__name__, args))\n",
    "        print (funct(*args))\n",
    "    return log_funct\n",
    "\n",
    "def add(x, y):\n",
    "    return x + y\n",
    "\n",
    "add_logger = my_logger(add)\n",
    "\n",
    "# add_logger(3, 4)"
   ]
  },
  {
   "cell_type": "markdown",
   "metadata": {},
   "source": [
    "```python\n",
    "def logger(funct):```\n",
    "Defines a logger function that creates an inner ```log_funct``` logging (any) function in an 'example.log' file.\n",
    "\n",
    "```python\n",
    "def log_funct(*args):```\n",
    "Defines a log_function accepting any arguments we input (thanks to the ```*args``` inserted) that will log the name of the funtion and the arguments inserted in the 'example.log' file, and will return the value of the sum in the console."
   ]
  },
  {
   "cell_type": "markdown",
   "metadata": {},
   "source": [
    "```python\n",
    "add_logger(3,4)```\n",
    "Will call the function ```log_funct```, which will remember its inner function ```funct``` is ```sum``` thanks to closures. It will compute the sum, and log it into the log file.\n",
    "\n",
    "Note: ```funct.__name__``` is a method returning the name of the function inserted."
   ]
  },
  {
   "cell_type": "markdown",
   "metadata": {},
   "source": [
    "# Decorators"
   ]
  },
  {
   "cell_type": "markdown",
   "metadata": {},
   "source": [
    "Decorators are used as functions defined to add functionalities to other functions."
   ]
  },
  {
   "cell_type": "markdown",
   "metadata": {},
   "source": [
    "Decorators are functions taking another function as an argument. They adding some kind of functionality to it, and then return another function. All of this without altering the source code of the original function passed in as argument.\n",
    "\n",
    "They are usually used to create loggers for functions, or timing for how long functions run (examples at the end)."
   ]
  },
  {
   "cell_type": "markdown",
   "metadata": {},
   "source": [
    "Note: decorators are used as class extenders as well."
   ]
  },
  {
   "cell_type": "markdown",
   "metadata": {},
   "source": [
    "### Example:"
   ]
  },
  {
   "cell_type": "code",
   "execution_count": 34,
   "metadata": {},
   "outputs": [],
   "source": [
    "def decorator_fnct(original_fnct):\n",
    "    def wrapper_fnct():\n",
    "        print('Wrapper executed with {}'.format(original_fnct.__name__))\n",
    "        return original_fnct()\n",
    "    return wrapper_fnct"
   ]
  },
  {
   "cell_type": "markdown",
   "metadata": {},
   "source": [
    "This first set of code defines a decorator function (decorator since it expects a function as an argument and returns another function), which it then uses to create a wrapper function returning a message and the original function executed."
   ]
  },
  {
   "cell_type": "code",
   "execution_count": 35,
   "metadata": {},
   "outputs": [],
   "source": [
    "@decorator_fnct\n",
    "def display():\n",
    "    print('Hello!')"
   ]
  },
  {
   "cell_type": "markdown",
   "metadata": {},
   "source": [
    "What here the code does is 'extend' the code of the function ```display``` to add the functionalities defined in the decorator function.\n",
    "\n",
    "```python\n",
    "@decorator_fnct\n",
    "#Is the same as:\n",
    "display = decorator_fnct(display)```\n",
    "Tells the program to set the function display equal to ```decorator_fnct(display)```. Now, exectuting display shoud add the functionalities of the decorator:"
   ]
  },
  {
   "cell_type": "code",
   "execution_count": 36,
   "metadata": {},
   "outputs": [
    {
     "name": "stdout",
     "output_type": "stream",
     "text": [
      "Wrapper executed with display\n",
      "Hello!\n"
     ]
    }
   ],
   "source": [
    "display()"
   ]
  },
  {
   "cell_type": "markdown",
   "metadata": {},
   "source": [
    "### Example 2: adding ```*args``` and ```**kwargs```"
   ]
  },
  {
   "cell_type": "markdown",
   "metadata": {},
   "source": [
    "If we try using the previous ```decorator_fnct``` for a function requiring arguments, Python will give an error. \n",
    "\n",
    "To avoid that, we need to tell the decorator to accept any positional argument and any key-word argument inserted in the original function with ```*args``` and ```**kwargs``` statements."
   ]
  },
  {
   "cell_type": "markdown",
   "metadata": {},
   "source": [
    "#### Example of error:"
   ]
  },
  {
   "cell_type": "code",
   "execution_count": 39,
   "metadata": {},
   "outputs": [
    {
     "ename": "TypeError",
     "evalue": "wrapper_fnct() takes 0 positional arguments but 2 were given",
     "output_type": "error",
     "traceback": [
      "\u001b[0;31m---------------------------------------------------------------------------\u001b[0m",
      "\u001b[0;31mTypeError\u001b[0m                                 Traceback (most recent call last)",
      "\u001b[0;32m<ipython-input-39-a772ab2b4057>\u001b[0m in \u001b[0;36m<module>\u001b[0;34m\u001b[0m\n\u001b[1;32m      2\u001b[0m \u001b[0;32mdef\u001b[0m \u001b[0mdisplay_info\u001b[0m\u001b[0;34m(\u001b[0m\u001b[0mname\u001b[0m\u001b[0;34m,\u001b[0m \u001b[0mage\u001b[0m\u001b[0;34m)\u001b[0m\u001b[0;34m:\u001b[0m\u001b[0;34m\u001b[0m\u001b[0;34m\u001b[0m\u001b[0m\n\u001b[1;32m      3\u001b[0m     \u001b[0mprint\u001b[0m\u001b[0;34m(\u001b[0m\u001b[0;34m'My name is {} and I am {} years old'\u001b[0m\u001b[0;34m.\u001b[0m\u001b[0mformat\u001b[0m\u001b[0;34m(\u001b[0m\u001b[0mname\u001b[0m\u001b[0;34m,\u001b[0m \u001b[0mage\u001b[0m\u001b[0;34m)\u001b[0m\u001b[0;34m)\u001b[0m\u001b[0;34m\u001b[0m\u001b[0;34m\u001b[0m\u001b[0m\n\u001b[0;32m----> 4\u001b[0;31m \u001b[0mdisplay_info\u001b[0m\u001b[0;34m(\u001b[0m\u001b[0;34m'Manuel'\u001b[0m\u001b[0;34m,\u001b[0m \u001b[0;34m'27'\u001b[0m\u001b[0;34m)\u001b[0m\u001b[0;34m\u001b[0m\u001b[0;34m\u001b[0m\u001b[0m\n\u001b[0m",
      "\u001b[0;31mTypeError\u001b[0m: wrapper_fnct() takes 0 positional arguments but 2 were given"
     ]
    }
   ],
   "source": [
    "@decorator_fnct\n",
    "def display_info(name, age):\n",
    "    print('My name is {} and I am {} years old'.format(name, age))\n",
    "display_info('Manuel', '27')"
   ]
  },
  {
   "cell_type": "markdown",
   "metadata": {},
   "source": [
    "#### Correct statement:"
   ]
  },
  {
   "cell_type": "code",
   "execution_count": 40,
   "metadata": {},
   "outputs": [],
   "source": [
    "def decorator_fnct(original_fnct):\n",
    "    def wrapper_fnct(*args, **kwargs):\n",
    "        print('Wrapper executed with {}'.format(original_fnct.__name__))\n",
    "        return original_fnct(*args, **kwargs)\n",
    "    return wrapper_fnct"
   ]
  },
  {
   "cell_type": "markdown",
   "metadata": {},
   "source": [
    "@decorator_fnct\n",
    "def display_info(name, age):\n",
    "    print('My name is {} and I am {} years old'.format(name, age))\n",
    "display_info('Manuel', '27')"
   ]
  },
  {
   "cell_type": "markdown",
   "metadata": {},
   "source": [
    "### Syntax for class decorator (same functionality)"
   ]
  },
  {
   "cell_type": "markdown",
   "metadata": {},
   "source": [
    "The same functionality can be implemented using a class decorator, which adds the same functionalities to functions.\n",
    "\n",
    "In this case, a ```__call__``` method needs to be initialized to state the action taken when the instance of the ```decorator_class``` is called."
   ]
  },
  {
   "cell_type": "code",
   "execution_count": 46,
   "metadata": {},
   "outputs": [],
   "source": [
    "class decorator_class(object):\n",
    "    def __init__(self, original_fnct):\n",
    "        self.original_fnct = original_fnct\n",
    "    \n",
    "    def __call__(self, *args, **kwargs):\n",
    "        print('Call method executed with {}'.format(self.original_fnct.__name__))\n",
    "        return self.original_fnct(*args, **kwargs)"
   ]
  },
  {
   "cell_type": "code",
   "execution_count": 47,
   "metadata": {},
   "outputs": [
    {
     "name": "stdout",
     "output_type": "stream",
     "text": [
      "Call method executed with display_info\n",
      "My name is Manuel and I am 27 years old\n"
     ]
    }
   ],
   "source": [
    "@decorator_class\n",
    "def display_info(name, age):\n",
    "    print('My name is {} and I am {} years old'.format(name, age))\n",
    "display_info('Manuel', '27')"
   ]
  },
  {
   "cell_type": "markdown",
   "metadata": {},
   "source": [
    "## Stacking decorators"
   ]
  },
  {
   "cell_type": "markdown",
   "metadata": {},
   "source": [
    "When trying to stack many decorators at a time, we will find out that the first time our original function is called by the decorator, it will get the name of the wrapper function."
   ]
  },
  {
   "cell_type": "markdown",
   "metadata": {},
   "source": [
    "To avoid that, the ```functools``` package has got our back. We just need to import the ```wraps``` module and add it to all the wrapper functions, as shown below."
   ]
  },
  {
   "cell_type": "code",
   "execution_count": 50,
   "metadata": {},
   "outputs": [],
   "source": [
    "from functools import wraps\n",
    "\n",
    "# Logger decorator\n",
    "def my_logger(funct):\n",
    "    import logging\n",
    "    logging.basicConfig(filename = 'example.log',\n",
    "                        level = logging.INFO)\n",
    "    \n",
    "    @wraps(funct) #ADD THIS to avoid 'funct' name to be changed to 'wrapper'\n",
    "    def wrapper(*args, **kwargs):\n",
    "        logging.info('Ran with args:\"{}\" and kwargs {}'.format(args, kwargs))\n",
    "        print (funct(*args, **kwargs))\n",
    "    return wrapper\n",
    "\n",
    "#Timer decorator\n",
    "def my_timer(funct):\n",
    "    import time\n",
    "    \n",
    "    @wraps(funct) #ADD THIS to avoid 'funct' name to be changed to 'wrapper'\n",
    "    def wrapper(*args, **kwargs):\n",
    "        t1=time.time()\n",
    "        resul = funct(*args, **kwargs)\n",
    "        t2 = time.time() - t1\n",
    "        print('{} ran in: {} sec'.format(funct.__name___, t2))\n",
    "    return wrapper"
   ]
  },
  {
   "cell_type": "markdown",
   "metadata": {},
   "source": [
    "Adding ```@wraps(funct)``` allows the function passed into a wrapper to keep its original name. Even if the decorator returns ```wrapper``` or any name, the module will make the function keep its name."
   ]
  },
  {
   "cell_type": "code",
   "execution_count": null,
   "metadata": {},
   "outputs": [],
   "source": []
  }
 ],
 "metadata": {
  "kernelspec": {
   "display_name": "Python 3",
   "language": "python",
   "name": "python3"
  },
  "language_info": {
   "codemirror_mode": {
    "name": "ipython",
    "version": 3
   },
   "file_extension": ".py",
   "mimetype": "text/x-python",
   "name": "python",
   "nbconvert_exporter": "python",
   "pygments_lexer": "ipython3",
   "version": "3.7.3"
  }
 },
 "nbformat": 4,
 "nbformat_minor": 2
}
