{
 "cells": [
  {
   "cell_type": "markdown",
   "metadata": {},
   "source": [
    "# Database"
   ]
  },
  {
   "cell_type": "markdown",
   "metadata": {},
   "source": [
    "SQLAlchemy is a very common used ORM (Object Relational Mapper), allowing us to access the data in an object-oriented way. (Allowing us to use different databases without changing our Python code)."
   ]
  },
  {
   "cell_type": "markdown",
   "metadata": {},
   "source": [
    "Note: in this Notebook we will use the Flask built-in SQLAlchemy package:\n",
    "\n",
    "`pip install flask-sqlalchemy`"
   ]
  },
  {
   "cell_type": "code",
   "execution_count": 5,
   "metadata": {},
   "outputs": [],
   "source": [
    "from flask import Flask"
   ]
  },
  {
   "cell_type": "markdown",
   "metadata": {},
   "source": [
    "## Step 0: Initialization"
   ]
  },
  {
   "cell_type": "markdown",
   "metadata": {},
   "source": [
    "Import the `sqlalchemy` module:"
   ]
  },
  {
   "cell_type": "code",
   "execution_count": 2,
   "metadata": {},
   "outputs": [],
   "source": [
    "from flask_sqlalchemy import SQLAlchemy"
   ]
  },
  {
   "cell_type": "markdown",
   "metadata": {},
   "source": [
    "To start, we will use a light database that will be stored in the local machine. We set up the URI of where this file will be stored by setting:"
   ]
  },
  {
   "cell_type": "code",
   "execution_count": 6,
   "metadata": {},
   "outputs": [],
   "source": [
    "app = Flask(__name__)\n",
    "\n",
    "app.config['SQLALCHEMY_DATABASE_URI'] = 'database_URI'"
   ]
  },
  {
   "cell_type": "markdown",
   "metadata": {},
   "source": [
    "`'database_URI'` is the actual URI of our database. We can specify it, or create a new one inserting `sqlite:///site.db` instead.\n",
    "(`:///` means our current directory, and the command is creating a new database file)"
   ]
  },
  {
   "cell_type": "markdown",
   "metadata": {},
   "source": [
    "## Step 1: Creating database instances"
   ]
  },
  {
   "cell_type": "markdown",
   "metadata": {},
   "source": [
    "Note: the instance should be created in a separate `models` file. 'Models' are database classes, which will be its own table in the database."
   ]
  },
  {
   "cell_type": "code",
   "execution_count": 7,
   "metadata": {},
   "outputs": [
    {
     "name": "stderr",
     "output_type": "stream",
     "text": [
      "//anaconda3/lib/python3.7/site-packages/flask_sqlalchemy/__init__.py:835: FSADeprecationWarning: SQLALCHEMY_TRACK_MODIFICATIONS adds significant overhead and will be disabled by default in the future.  Set it to True or False to suppress this warning.\n",
      "  'SQLALCHEMY_TRACK_MODIFICATIONS adds significant overhead and '\n"
     ]
    }
   ],
   "source": [
    "db = SQLAlchemy(app)"
   ]
  },
  {
   "cell_type": "markdown",
   "metadata": {},
   "source": [
    "### Example: creating a 'User' class"
   ]
  },
  {
   "cell_type": "code",
   "execution_count": 9,
   "metadata": {},
   "outputs": [],
   "source": [
    "class User(db.Model):\n",
    "    id = db.Column(db.Integer, primary_key = True)\n",
    "    username = db.Column(db.String(20), unique = True, nullable = False)\n",
    "    username = db.Column(db.String(20), unique = True, nullable = False)\n",
    "    image_file = db.Column(db.String(20), nullable = False, default = 'defaul.jpg')\n",
    "    password = db.Column(db.String(60), nullable = False)\n",
    "    \n",
    "    def __repr__(self):\n",
    "        return \"User('{self.username}', '{self.email}', '{self.image_file}')\""
   ]
  },
  {
   "cell_type": "markdown",
   "metadata": {},
   "source": [
    "```python\n",
    "class User(db.Model):```\n",
    "- Defines a new class called 'User' (we decide the name), inside the database 'db'.\n",
    "\n",
    "```python\n",
    "id = db.Column(db.Integer,\n",
    "               primary_key = True)```\n",
    "- Sets the 'id' as the first Column of the database, which requires an integer as input, and is set up as primary key (parameter set up to uniquely identify all table records) of the database.\n",
    "\n",
    "```python\n",
    "username = db.Column(db.String(20),\n",
    "                     unique = True,\n",
    "                     nullable = False)```\n",
    "- Sets up 'username' as the second column of the database, which will be a string of at most 20 characters. `unique = True` means all users will need a distinct username, and `nullable = False` means all users will require a non-null username.\n",
    "\n",
    "```python\n",
    "def __repr__(self):\n",
    "        return '...'```\n",
    "- Specifies the way an instance of the class will be printed if the `print()` function is called on it."
   ]
  },
  {
   "cell_type": "code",
   "execution_count": null,
   "metadata": {},
   "outputs": [],
   "source": []
  }
 ],
 "metadata": {
  "kernelspec": {
   "display_name": "Python 3",
   "language": "python",
   "name": "python3"
  },
  "language_info": {
   "codemirror_mode": {
    "name": "ipython",
    "version": 3
   },
   "file_extension": ".py",
   "mimetype": "text/x-python",
   "name": "python",
   "nbconvert_exporter": "python",
   "pygments_lexer": "ipython3",
   "version": "3.7.3"
  }
 },
 "nbformat": 4,
 "nbformat_minor": 2
}
