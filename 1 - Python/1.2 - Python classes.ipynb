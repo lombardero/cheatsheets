{
 "cells": [
  {
   "cell_type": "markdown",
   "metadata": {},
   "source": [
    "# Classes in Python"
   ]
  },
  {
   "cell_type": "markdown",
   "metadata": {},
   "source": [
    "Brief explanation on how Python classes work."
   ]
  },
  {
   "cell_type": "markdown",
   "metadata": {},
   "source": [
    "### Defining a class"
   ]
  },
  {
   "cell_type": "code",
   "execution_count": 4,
   "metadata": {},
   "outputs": [],
   "source": [
    "class NameClass:\n",
    "    def __init__(self, first, second):\n",
    "        self.method1 = first\n",
    "        self.method2 = first*second"
   ]
  },
  {
   "cell_type": "markdown",
   "metadata": {},
   "source": [
    "```python\n",
    "class NameClass:```\n",
    "Creates a class named 'NameClass'.\n",
    "\n",
    "Note: adding a ```pass``` statement will allow to create the class without doing any action (not even initializing it)."
   ]
  },
  {
   "cell_type": "markdown",
   "metadata": {},
   "source": [
    "```python\n",
    "def __init__(self, first, second):\n",
    "```\n",
    "'initializes' the Class with the instance variables 'first', 'second', etc, specified in the input. By convention, 'self' is the instance itself. The arguments added in the ```__init__``` are the ones required for the class to initialize.\n",
    "\n",
    "```python\n",
    "def __init__(self, first = 0, second = None):\n",
    "```\n",
    "Setting the arguments to a value in the ```__init__``` statement will create default values. In the above example, the first argument is set to 0, the second to 'None'."
   ]
  },
  {
   "cell_type": "markdown",
   "metadata": {},
   "source": [
    "## Decorators"
   ]
  },
  {
   "cell_type": "code",
   "execution_count": null,
   "metadata": {},
   "outputs": [],
   "source": []
  },
  {
   "cell_type": "code",
   "execution_count": null,
   "metadata": {},
   "outputs": [],
   "source": [
    "class decorator_class(object):\n",
    "    def __init__(self, original_fnct):\n",
    "        self.original_fnct = original_fnct\n",
    "    \n",
    "    def __call__(self, *args, **kwargs)\n",
    "    "
   ]
  },
  {
   "cell_type": "code",
   "execution_count": null,
   "metadata": {},
   "outputs": [],
   "source": []
  }
 ],
 "metadata": {
  "kernelspec": {
   "display_name": "Python 3",
   "language": "python",
   "name": "python3"
  },
  "language_info": {
   "codemirror_mode": {
    "name": "ipython",
    "version": 3
   },
   "file_extension": ".py",
   "mimetype": "text/x-python",
   "name": "python",
   "nbconvert_exporter": "python",
   "pygments_lexer": "ipython3",
   "version": "3.7.3"
  }
 },
 "nbformat": 4,
 "nbformat_minor": 2
}
