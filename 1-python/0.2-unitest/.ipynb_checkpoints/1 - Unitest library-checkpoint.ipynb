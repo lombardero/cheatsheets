{
 "cells": [
  {
   "cell_type": "markdown",
   "metadata": {},
   "source": [
    "# Unit testing"
   ]
  },
  {
   "cell_type": "markdown",
   "metadata": {},
   "source": [
    "Built-in unit testing module for testing your code in Python."
   ]
  },
  {
   "cell_type": "markdown",
   "metadata": {},
   "source": [
    "Official documentation: https://docs.python.org/3/library/unittest.html"
   ]
  },
  {
   "cell_type": "code",
   "execution_count": 6,
   "metadata": {},
   "outputs": [],
   "source": [
    "# Example of functions we want to test \n",
    "# (we assume it is in another module called 'module_we_test.py')\n",
    "def function1(x, y):\n",
    "    return x + y\n",
    "\n",
    "def function2(x, y):\n",
    "    return x - y"
   ]
  },
  {
   "cell_type": "markdown",
   "metadata": {},
   "source": [
    "## Step 1: create a new Python file"
   ]
  },
  {
   "cell_type": "markdown",
   "metadata": {},
   "source": [
    "Standard practice to test the functions in a Python file is to create another Python file called `test_<name>.py` with the `<name>` being what you are planning to test. (Very important to name them `test_...`, otherwise the `unittest` module will not run."
   ]
  },
  {
   "cell_type": "markdown",
   "metadata": {},
   "source": [
    "#### Import unittest module"
   ]
  },
  {
   "cell_type": "code",
   "execution_count": 4,
   "metadata": {},
   "outputs": [],
   "source": [
    "import unittest\n",
    "# import module_we_test"
   ]
  },
  {
   "cell_type": "markdown",
   "metadata": {},
   "source": [
    "#### Running unittest as the main module"
   ]
  },
  {
   "cell_type": "markdown",
   "metadata": {},
   "source": [
    "Note: in order to run the tests we are planning, we need to run the `test_<name>.py` as the `main` module. For that, we can run it explicitely in the command line as follows:\n",
    "\n",
    "`python -m unittest test_<name>.py`\n",
    "\n",
    "Or simply adding the following lines of code on the `test_<name>.py` file itself:"
   ]
  },
  {
   "cell_type": "markdown",
   "metadata": {},
   "source": [
    "```python\n",
    "if __name__ == '__main__':\n",
    "    unittest.main()```"
   ]
  },
  {
   "cell_type": "markdown",
   "metadata": {},
   "source": [
    "This statement simply says that if the `test_<name>.py` file is run directly, to use unittest as out main module."
   ]
  },
  {
   "cell_type": "markdown",
   "metadata": {},
   "source": [
    "## Step 2: Start creating test cases"
   ]
  },
  {
   "cell_type": "markdown",
   "metadata": {},
   "source": [
    "First step is creating a class somehow descriptive of the name of what you test. We will call it `TestModule`:"
   ]
  },
  {
   "cell_type": "code",
   "execution_count": 8,
   "metadata": {},
   "outputs": [],
   "source": [
    "class TestModule(unittest.TestCase):\n",
    "    def test_function1(self): # we are testing 'function1' of the module\n",
    "        self.assertEqual(calc.function1(10, 5), 15) # running the test (test passes if result = 15)\n",
    "        self.assertEqual(calc.function1(-10, 5), -15) # running the test (test passes if result = 15)\n",
    "    def test_function2(self):\n",
    "        self.assertEqual(calc.function1(10, 5), 5)\n",
    "        self.assertEqual(calc.function1(-10, 5), -5)"
   ]
  },
  {
   "cell_type": "markdown",
   "metadata": {},
   "source": [
    "- The code will return `.` for each single test passed, and `F` for every single test failed."
   ]
  },
  {
   "cell_type": "markdown",
   "metadata": {},
   "source": [
    "```python\n",
    "calc.function1(10, 5)```\n",
    "Is computing the result of `function1(10,5)`\n",
    "```python\n",
    "self.assertEqual(x, 15)```\n",
    "Is verifying if x is equal to 15.\n",
    "\n",
    "Note: all singular tests defined under ```python test_function1(self)``` are considered one single test that will pass or fail for `unittest`. One single test will fail if one of the statements defined fails."
   ]
  },
  {
   "cell_type": "markdown",
   "metadata": {},
   "source": [
    "### Different types of tests"
   ]
  },
  {
   "cell_type": "markdown",
   "metadata": {},
   "source": [
    "```python\n",
    "self.assertEqual(value, comparison)```\n",
    "- Verifies if `value` (normally the computation of a function) is equal to `comparison` (the true result).\n"
   ]
  },
  {
   "cell_type": "markdown",
   "metadata": {},
   "source": [
    "```python\n",
    "self.assertRaises(error_type, calc.function1, *args)```\n",
    "- Verifies if the `*args` inserted on the `function1` function do provoke the `error_type` specified (ex: `ValueError`, `ZeroDivisionError`, etc.)\n",
    "\n",
    "Another syntax can be used (with a context manager) to make it look cleaner:\n",
    "```python\n",
    "with self.assertRaises(error_type):\n",
    "    calc.function1(*args)```"
   ]
  },
  {
   "cell_type": "code",
   "execution_count": null,
   "metadata": {},
   "outputs": [],
   "source": []
  }
 ],
 "metadata": {
  "kernelspec": {
   "display_name": "Python 3",
   "language": "python",
   "name": "python3"
  },
  "language_info": {
   "codemirror_mode": {
    "name": "ipython",
    "version": 3
   },
   "file_extension": ".py",
   "mimetype": "text/x-python",
   "name": "python",
   "nbconvert_exporter": "python",
   "pygments_lexer": "ipython3",
   "version": "3.7.3"
  }
 },
 "nbformat": 4,
 "nbformat_minor": 2
}
