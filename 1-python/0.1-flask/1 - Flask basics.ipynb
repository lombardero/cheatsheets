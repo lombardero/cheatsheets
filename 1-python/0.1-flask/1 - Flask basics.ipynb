{
 "cells": [
  {
   "cell_type": "markdown",
   "metadata": {},
   "source": [
    "# Flask"
   ]
  },
  {
   "cell_type": "markdown",
   "metadata": {},
   "source": [
    "More info: https://www.youtube.com/watch?v=MwZwr5Tvyxo&list=PL-osiE80TeTs4UjLw5MM6OjgkjFeUxCYH\n",
    "\n",
    "(Thanks Corey again)"
   ]
  },
  {
   "cell_type": "markdown",
   "metadata": {},
   "source": [
    "Install flask using ```pip install flask```"
   ]
  },
  {
   "cell_type": "markdown",
   "metadata": {},
   "source": [
    "## Step 1: Creating the base file"
   ]
  },
  {
   "cell_type": "markdown",
   "metadata": {},
   "source": [
    "Create a `flask_base.py` (or whatever name) in the folder of the project, and copy the following code (it is the basic code provided by Flask initialize the app)."
   ]
  },
  {
   "cell_type": "code",
   "execution_count": 1,
   "metadata": {},
   "outputs": [],
   "source": [
    "from flask import Flask\n",
    "app = Flask(__name__)\n",
    "\n",
    "@app.route(\"/\")\n",
    "def hello():\n",
    "    return \"Hello World!\""
   ]
  },
  {
   "cell_type": "markdown",
   "metadata": {},
   "source": [
    "```python\n",
    "from flask import Flask```\n",
    "Imports the `Flask` class from the `flask` module.\n",
    "\n",
    "```python\n",
    "app = Flask(__name__)```\n",
    "Creates an instance of the `Flask` class imported. Passing `__name__` as a variable will allow Flask to know where to look for the `templates` and `static files`.\n",
    "\n",
    "Note: `__name__` is a special variable in Python that imports the name of the module.\n",
    "\n",
    "```python\n",
    "@app.route(\"/\")\n",
    "def hello():\n",
    "    return \"Hello World!\"```\n",
    "The decorator adds the functionality defined in the `hello` function in the route specified as argument. In this case, its the `home` page, `\"/\"`.\n",
    "    "
   ]
  },
  {
   "cell_type": "markdown",
   "metadata": {},
   "source": [
    "### 1.1 Running the app:"
   ]
  },
  {
   "cell_type": "markdown",
   "metadata": {},
   "source": [
    "In the terminal (and the folder of the app), type:\n",
    "\n",
    "`export FLASK_APP=flask_base.py`"
   ]
  },
  {
   "cell_type": "markdown",
   "metadata": {},
   "source": [
    "Then, to run the app, type:\n",
    "\n",
    "`flask run`"
   ]
  },
  {
   "cell_type": "markdown",
   "metadata": {},
   "source": [
    "The app should then be running on `127.0.0.1:5000` a.k.a. `localhost`"
   ]
  },
  {
   "cell_type": "markdown",
   "metadata": {},
   "source": [
    "### 1.2.1 Setting up debugging mode:"
   ]
  },
  {
   "cell_type": "markdown",
   "metadata": {},
   "source": [
    "To activate debugging mode (changes in the `flask_base.py` code will be updated automatically in the browser), run in the terminal:\n",
    "\n",
    "`export FLASK_DEBUG=1`"
   ]
  },
  {
   "cell_type": "markdown",
   "metadata": {},
   "source": [
    "### 1.2.2 Setting debug mode on directly:"
   ]
  },
  {
   "cell_type": "markdown",
   "metadata": {},
   "source": [
    "The following code will allow the app to be run in debug mode every time it is called directly using the statement `__name__ == '__main__'`"
   ]
  },
  {
   "cell_type": "markdown",
   "metadata": {},
   "source": [
    "```python\n",
    "if __name__ == '__main__':\n",
    "    app.run(debug = True)```"
   ]
  },
  {
   "cell_type": "markdown",
   "metadata": {},
   "source": [
    "# Step 2: Creating the first route"
   ]
  },
  {
   "cell_type": "code",
   "execution_count": 3,
   "metadata": {},
   "outputs": [],
   "source": [
    "@app.route(\"/about\")\n",
    "def about():\n",
    "    return \"<h1>About Page</h1>\""
   ]
  },
  {
   "cell_type": "markdown",
   "metadata": {},
   "source": [
    "- This will allow flask to show a new page for the when the route `/about` is called."
   ]
  },
  {
   "cell_type": "markdown",
   "metadata": {},
   "source": [
    "Note: setting up two decorators with two different addresses on top of the same function will return the same page for both. Example below:"
   ]
  },
  {
   "cell_type": "code",
   "execution_count": 7,
   "metadata": {},
   "outputs": [],
   "source": [
    "@app.route(\"/aboutit\")\n",
    "@app.route(\"/aboutthis\")\n",
    "def about2():\n",
    "    return \"<h1>About Page two</h1>\""
   ]
  },
  {
   "cell_type": "markdown",
   "metadata": {},
   "source": [
    "- Will return the same `About Page two` for both routes."
   ]
  },
  {
   "cell_type": "markdown",
   "metadata": {},
   "source": []
  }
 ],
 "metadata": {
  "kernelspec": {
   "display_name": "Python 3",
   "language": "python",
   "name": "python3"
  },
  "language_info": {
   "codemirror_mode": {
    "name": "ipython",
    "version": 3
   },
   "file_extension": ".py",
   "mimetype": "text/x-python",
   "name": "python",
   "nbconvert_exporter": "python",
   "pygments_lexer": "ipython3",
   "version": "3.7.3"
  }
 },
 "nbformat": 4,
 "nbformat_minor": 2
}
