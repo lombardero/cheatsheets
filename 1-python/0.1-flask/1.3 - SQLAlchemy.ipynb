{
 "cells": [
  {
   "cell_type": "markdown",
   "metadata": {},
   "source": [
    "# SQLAlchemy"
   ]
  },
  {
   "cell_type": "markdown",
   "metadata": {},
   "source": [
    "SQLAlchemy is a very common used ORM (Object Relational Mapper), allowing us to access the data in an object-oriented way. (It actually allows to use different databases without changing our Python code)."
   ]
  },
  {
   "cell_type": "markdown",
   "metadata": {},
   "source": [
    "Note: in this Notebook we will use the Flask built-in SQLAlchemy package:\n",
    "\n",
    "`pip install flask-sqlalchemy`"
   ]
  },
  {
   "cell_type": "code",
   "execution_count": 2,
   "metadata": {},
   "outputs": [],
   "source": [
    "from flask import Flask"
   ]
  },
  {
   "cell_type": "markdown",
   "metadata": {},
   "source": [
    "## Step 0: Initialization"
   ]
  },
  {
   "cell_type": "markdown",
   "metadata": {},
   "source": [
    "Import the `sqlalchemy` module:"
   ]
  },
  {
   "cell_type": "code",
   "execution_count": 3,
   "metadata": {},
   "outputs": [],
   "source": [
    "from flask_sqlalchemy import SQLAlchemy"
   ]
  },
  {
   "cell_type": "markdown",
   "metadata": {},
   "source": [
    "To start, we will use a light database that will be stored in the local machine. We set up the URI of where this file will be stored by setting:"
   ]
  },
  {
   "cell_type": "code",
   "execution_count": 4,
   "metadata": {},
   "outputs": [],
   "source": [
    "app = Flask(__name__)\n",
    "\n",
    "app.config['SQLALCHEMY_DATABASE_URI'] = 'database_URI'"
   ]
  },
  {
   "cell_type": "markdown",
   "metadata": {},
   "source": [
    "`'database_URI'` is the actual URI where our database file can be found. We can specify it, or create a new one inserting `sqlite:///newdb.db` instead.\n",
    "(`:///` means our current directory, and the command will create a new database file called `newdb.db`)"
   ]
  },
  {
   "cell_type": "markdown",
   "metadata": {},
   "source": [
    "## Step 1: Creating database instances"
   ]
  },
  {
   "cell_type": "markdown",
   "metadata": {},
   "source": [
    "Note: the instance should be created in a separate `models` file. 'Models' are database classes, which will be its own table in the database."
   ]
  },
  {
   "cell_type": "code",
   "execution_count": 5,
   "metadata": {},
   "outputs": [
    {
     "name": "stderr",
     "output_type": "stream",
     "text": [
      "//anaconda3/lib/python3.7/site-packages/flask_sqlalchemy/__init__.py:835: FSADeprecationWarning: SQLALCHEMY_TRACK_MODIFICATIONS adds significant overhead and will be disabled by default in the future.  Set it to True or False to suppress this warning.\n",
      "  'SQLALCHEMY_TRACK_MODIFICATIONS adds significant overhead and '\n"
     ]
    }
   ],
   "source": [
    "db = SQLAlchemy(app)"
   ]
  },
  {
   "cell_type": "markdown",
   "metadata": {},
   "source": [
    "This statement is used to control the SQLAlchemy integration onto Flask (note that variable `app` is a Flask application).\n",
    "\n",
    "`app = Flask(__name__)`"
   ]
  },
  {
   "cell_type": "markdown",
   "metadata": {},
   "source": [
    "### Creating a 'User' class (table in the database)"
   ]
  },
  {
   "cell_type": "code",
   "execution_count": 24,
   "metadata": {},
   "outputs": [],
   "source": [
    "class User(db.Model):\n",
    "    id = db.Column(db.Integer,\n",
    "                   primary_key = True)\n",
    "    username = db.Column(db.String(20),\n",
    "                         unique = True,\n",
    "                         nullable = False)\n",
    "    image_file = db.Column(db.String(20),\n",
    "                           nullable = False,\n",
    "                           default = 'defaul.jpg')\n",
    "    password = db.Column(db.String(60),\n",
    "                         nullable = False)\n",
    "    \n",
    "    def __repr__(self):\n",
    "        return \"User('{self.username}', '{self.email}', '{self.image_file}')\""
   ]
  },
  {
   "cell_type": "markdown",
   "metadata": {},
   "source": [
    "```python\n",
    "class User(db.Model):```\n",
    "- Defines a new class called 'User' (we decide the name), inside the database 'db'.\n",
    "\n",
    "```python\n",
    "id = db.Column(db.Integer,\n",
    "               primary_key = True)```\n",
    "- Sets the 'id' as the first Column of the database, which requires an integer as input, and is set up as primary key (parameter set up to uniquely identify all table records) of the database.\n",
    "\n",
    "```python\n",
    "username = db.Column(db.String(20),\n",
    "                     unique = True,\n",
    "                     nullable = False)```\n",
    "- Sets up 'username' as the second column of the database, which will be a string of at most 20 characters. `unique = True` means all users will need a distinct username, and `nullable = False` means all users will require a non-null username.\n",
    "\n",
    "```python\n",
    "def __repr__(self):\n",
    "        return '...'```\n",
    "- Specifies the way an instance of the class will be printed if the `print()` function is called on it."
   ]
  },
  {
   "cell_type": "markdown",
   "metadata": {},
   "source": [
    "### Creating a 'Post' Class"
   ]
  },
  {
   "cell_type": "code",
   "execution_count": 25,
   "metadata": {},
   "outputs": [],
   "source": [
    "from datetime import datetime\n",
    "\n",
    "class Post(db.Model):\n",
    "    id = db.Column(db.Integer,\n",
    "                   primary_key = True)\n",
    "    title = db.Column(db.String(100),\n",
    "                      nullable = False)\n",
    "    date_posted = db.Column(db.DateTime,\n",
    "                            nullable = False,\n",
    "                            default = datetime.utcnow())\n",
    "    content = db.Column(db.Text,\n",
    "                        nullable = False)\n",
    "    \n",
    "    def __repr__(self):\n",
    "        return \"Post('{self.title}', '{self.date_posted}')\""
   ]
  },
  {
   "cell_type": "markdown",
   "metadata": {},
   "source": [
    "```python\n",
    "class Post(db.Model):```\n",
    "- Defines a new class called 'Post' inside the database 'db'.\n",
    "\n",
    "```python\n",
    "id = db.Column(db.Integer,\n",
    "               primary_key = True)```\n",
    "- Sets the post 'id' as the first Column of the database, and is set up as primary key.\n",
    "\n",
    "```python\n",
    "date_posted = db.Column(db.DateTime,\n",
    "                        nullable = False,\n",
    "                        default = datetime.utcnow())```\n",
    "- Sets up 'date_posted' as a `DateTime` object, non-nullable. `default` sets the default value of the `date_posted` column, which will be the actual time of the post if no time is specified."
   ]
  },
  {
   "cell_type": "markdown",
   "metadata": {},
   "source": [
    "## Step2: Adding relationships between classes"
   ]
  },
  {
   "cell_type": "markdown",
   "metadata": {},
   "source": [
    "### Updating the 'User' class"
   ]
  },
  {
   "cell_type": "code",
   "execution_count": 6,
   "metadata": {},
   "outputs": [],
   "source": [
    "# <Same as before>\n",
    "class User(db.Model):\n",
    "    id = db.Column(db.Integer, primary_key = True)\n",
    "    username = db.Column(db.String(20),unique = True,nullable = False)\n",
    "    image_file = db.Column(db.String(20), nullable = False, default = 'default.jpg')\n",
    "    password = db.Column(db.String(60), nullable = False)\n",
    "    # </Same as before>\n",
    "    \n",
    "    # <New Code>\n",
    "    posts = db.relationship('Post',\n",
    "                            backref = 'author',\n",
    "                            lazy = True)\n",
    "    # </New Code>\n",
    "    \n",
    "    def __repr__(self):\n",
    "        return f\"User('{self.username}', '{self.email}', '{self.image_file}')\""
   ]
  },
  {
   "cell_type": "markdown",
   "metadata": {},
   "source": [
    "```python\n",
    "posts = db.relationship('Post',\n",
    "                        backref = 'author',\n",
    "                        lazy = True)```\n",
    "Adds a `relationship` with the class (or model) `'Post'` (which needs to be specified as a string). Note that this won't create a `Column` in the database, but will allow us to query the posts done by that user. What `relationships` do is create additional operations in the background that will allow to get all posts that users have created; check **Step3 - g)**.\n",
    "\n",
    "- The `backref` is similar to adding a column to the `Post` model (without doing it). What `backref` will allow is, for any Post, we will be able to retrieve its `User` instance by calling the `.author` method on it; check **Step3 - i)**.\n",
    "\n",
    "- Adding a `lazy` argument will enable lazy loading of the data.\n"
   ]
  },
  {
   "cell_type": "code",
   "execution_count": 8,
   "metadata": {},
   "outputs": [],
   "source": [
    "# <Same as before>\n",
    "from datetime import datetime\n",
    "\n",
    "class Post(db.Model):\n",
    "    id = db.Column(db.Integer, primary_key = True)\n",
    "    title = db.Column(db.String(100),nullable = False)\n",
    "    date_posted = db.Column(db.DateTime,nullable = False,default = datetime.utcnow())\n",
    "    content = db.Column(db.Text,nullable = False)\n",
    "    # </Same as before>\n",
    "    \n",
    "    # <New Code>\n",
    "    user_id = db.Column(db.Integer,\n",
    "                        db.ForeignKey('user.id'),\n",
    "                        nullable = False)\n",
    "    \n",
    "    \n",
    "    def __repr__(self):\n",
    "        return f\"Post('{self.title}', '{self.date_posted}')\""
   ]
  },
  {
   "cell_type": "markdown",
   "metadata": {},
   "source": [
    "```python\n",
    "user_id = db.Column(db.Integer,\n",
    "                    db.ForeignKey('user.id'),\n",
    "                    nullable = False)```\n",
    "This creates a new Column that requires to be an `Integer`, and that will come from the `id` argument of the `user` table.\n",
    "\n",
    "Note that we user lower-case `'user.id'` as a string instead of referencing the model `User` as we did for the `backref`. This is due to the fact that we need to reference the table name (and tables have always lower-case names)."
   ]
  },
  {
   "cell_type": "markdown",
   "metadata": {},
   "source": [
    "## Step 3: add items to database"
   ]
  },
  {
   "cell_type": "markdown",
   "metadata": {},
   "source": [
    "For this part, we will assume the above code is saved in `model.py` folder."
   ]
  },
  {
   "cell_type": "markdown",
   "metadata": {},
   "source": [
    "**a) Make sure to activate python on the command line**:\n",
    "\n",
    "`$ python`"
   ]
  },
  {
   "cell_type": "markdown",
   "metadata": {},
   "source": [
    "**b) Import the database created:**\n",
    "\n",
    "`from model import db`"
   ]
  },
  {
   "cell_type": "markdown",
   "metadata": {},
   "source": [
    "**c) Create the database:**\n",
    "\n",
    "`db.create_all()`"
   ]
  },
  {
   "cell_type": "markdown",
   "metadata": {},
   "source": [
    "This creates an empty database instance in the URI specified above (if we specified `sqlite:///newdb.d`, it will create it in a new file `newdb.db`)."
   ]
  },
  {
   "cell_type": "markdown",
   "metadata": {},
   "source": [
    "Note: use `db.clear.all()` to clear all database tables."
   ]
  },
  {
   "cell_type": "markdown",
   "metadata": {},
   "source": [
    "**d) Creating a 'User' and 'Post' instance:**\n",
    "\n",
    "`from model import User, Post`\n",
    "\n",
    "`user_1 = (username = 'Lennon', email = 'john@lemon.com', password = 'imagine')`\n",
    "\n",
    "`user_2 = (username = 'McCartney', email = 'paul@macca.com', password = 'letitbe')`"
   ]
  },
  {
   "cell_type": "markdown",
   "metadata": {},
   "source": [
    "**e) Adding users to the database:**\n",
    "\n",
    "`db.session.add(user_1)`\n",
    "\n",
    "`db.session.add(user_2)`\n",
    "\n",
    "`db.session.commit()`"
   ]
  },
  {
   "cell_type": "markdown",
   "metadata": {},
   "source": [
    "These three commands add the user instances to the database"
   ]
  },
  {
   "cell_type": "markdown",
   "metadata": {},
   "source": [
    "**f) Quering users:**"
   ]
  },
  {
   "cell_type": "markdown",
   "metadata": {},
   "source": [
    "`User.query.all()` Will return a list with all users. (note syntax is `Model.query.all()`)\n",
    "\n",
    "Note: the `.query.all()` method will return a list of all `Users` added in the database."
   ]
  },
  {
   "cell_type": "markdown",
   "metadata": {},
   "source": [
    "`User.query.first()` will return the first user."
   ]
  },
  {
   "cell_type": "markdown",
   "metadata": {},
   "source": [
    "`User.query.filter_by(username = 'McCartney')` will return a list of users satisfying the condition, in this case, the second one. (Here we will never obtain more than 1 result, since our `username` is unique, we can use the `.first()` method to get the user out of the list)."
   ]
  },
  {
   "cell_type": "markdown",
   "metadata": {},
   "source": [
    "`User.query.get(id)` will return the user associated to the `id` inserted (it should be an `integer`)."
   ]
  },
  {
   "cell_type": "markdown",
   "metadata": {},
   "source": [
    "**g) Getting conditions from users (including reference)**"
   ]
  },
  {
   "cell_type": "markdown",
   "metadata": {},
   "source": [
    "Setting a variable equal to a user allows us to query all arguments of the user:\n",
    "\n",
    "`user1 = User.query.filter_by(username = 'McCartney').first()`"
   ]
  },
  {
   "cell_type": "markdown",
   "metadata": {},
   "source": [
    "Now we can query the other arguments defined in Steps 1 and 2:\n",
    "\n",
    "`user1.id`\n",
    "\n",
    "- Will return the ID associated to it (etc.)\n",
    "\n",
    "`user.posts`\n",
    "\n",
    "- Will return a list with the posts done by the user, this can be done thanks to setting `posts = db.relationship(...)` in **Step2**."
   ]
  },
  {
   "cell_type": "markdown",
   "metadata": {},
   "source": [
    "**h) Creating posts**"
   ]
  },
  {
   "cell_type": "markdown",
   "metadata": {},
   "source": [
    "`post1 = Post(title='Post 1', content='First Content', user_id = user.id)`\n",
    "`post2 = Post(title='Post 2', content='Second Content', user_id = user.id)`"
   ]
  },
  {
   "cell_type": "markdown",
   "metadata": {},
   "source": [
    "Note that we have used the previously defined variable `user` to enter the `user_id` argument."
   ]
  },
  {
   "cell_type": "markdown",
   "metadata": {},
   "source": [
    "`db.session.add(post1)`\n",
    "\n",
    "`db.session.add(post2)`\n",
    "\n",
    "`db.session.commit()`"
   ]
  },
  {
   "cell_type": "markdown",
   "metadata": {},
   "source": [
    "**i) Using the backref to query the user**"
   ]
  },
  {
   "cell_type": "markdown",
   "metadata": {},
   "source": [
    "`post = Post.query.first()` associates a variable to the first post (now we can query it)"
   ]
  },
  {
   "cell_type": "markdown",
   "metadata": {},
   "source": [
    "`post.author`\n",
    "\n",
    "- Will return the User that created the author thanks to the `backreference` created in **Step2**."
   ]
  },
  {
   "cell_type": "markdown",
   "metadata": {},
   "source": [
    "**j) Deleting rows from database**"
   ]
  },
  {
   "cell_type": "markdown",
   "metadata": {},
   "source": [
    "`db.session.delete(user1)`\n",
    "\n",
    "`db.session.commit()`\n",
    "\n",
    "Deletes `user1` (previously defined) from the database."
   ]
  },
  {
   "cell_type": "code",
   "execution_count": null,
   "metadata": {},
   "outputs": [],
   "source": []
  }
 ],
 "metadata": {
  "kernelspec": {
   "display_name": "Python 3",
   "language": "python",
   "name": "python3"
  },
  "language_info": {
   "codemirror_mode": {
    "name": "ipython",
    "version": 3
   },
   "file_extension": ".py",
   "mimetype": "text/x-python",
   "name": "python",
   "nbconvert_exporter": "python",
   "pygments_lexer": "ipython3",
   "version": "3.7.3"
  }
 },
 "nbformat": 4,
 "nbformat_minor": 2
}
