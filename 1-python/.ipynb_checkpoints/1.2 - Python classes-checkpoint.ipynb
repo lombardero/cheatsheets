{
 "cells": [
  {
   "cell_type": "markdown",
   "metadata": {},
   "source": [
    "# Python Classes basics"
   ]
  },
  {
   "cell_type": "markdown",
   "metadata": {},
   "source": [
    "Brief explanation on how Python classes work."
   ]
  },
  {
   "cell_type": "markdown",
   "metadata": {},
   "source": [
    "## A - Defining a class"
   ]
  },
  {
   "cell_type": "code",
   "execution_count": 1,
   "metadata": {},
   "outputs": [],
   "source": [
    "class NameClass:\n",
    "    def __init__(self, first, second):\n",
    "        self.method1 = first\n",
    "        self.method2 = first*second"
   ]
  },
  {
   "cell_type": "markdown",
   "metadata": {},
   "source": [
    "```python\n",
    "class NameClass:```\n",
    "Creates a class named 'NameClass'.\n",
    "\n",
    "Note: adding a ```pass``` statement will allow to create the class without doing any action (not even initializing it)."
   ]
  },
  {
   "cell_type": "markdown",
   "metadata": {},
   "source": [
    "```python\n",
    "def __init__(self, first, second):\n",
    "```\n",
    "'initializes' the Class with the instance variables 'first', 'second', etc, specified in the input. By convention, 'self' is the instance itself. The arguments added in the ```__init__``` are the ones required for the class to initialize.\n",
    "\n",
    "```python\n",
    "def __init__(self, first = 0, second = None):\n",
    "```\n",
    "Setting the arguments to a value in the ```__init__``` statement will create default values. In the above example, the first argument is set to 0, the second to 'None'."
   ]
  },
  {
   "cell_type": "markdown",
   "metadata": {},
   "source": [
    "```python\n",
    "self.method1 = first\n",
    "self.method2 = first * second```\n",
    "Defines two methods called `method1` and `method2`, which return the specified data for each case. In our example, the `first` argument is called when `.method1` is invoked in an instance, and the product of both `first` and `second` arguments when `.method2` is invoked."
   ]
  },
  {
   "cell_type": "markdown",
   "metadata": {},
   "source": [
    "## B - Class inheritance"
   ]
  },
  {
   "cell_type": "markdown",
   "metadata": {},
   "source": [
    "In Python, we can easily create a second class based on a first class easily, with the `super()` statement:"
   ]
  },
  {
   "cell_type": "markdown",
   "metadata": {},
   "source": [
    "We first create a `rectangle` class:\n",
    "\n",
    "(example taken from https://realpython.com/python-super/)"
   ]
  },
  {
   "cell_type": "code",
   "execution_count": 26,
   "metadata": {},
   "outputs": [],
   "source": [
    "class Rectangle:\n",
    "    def __init__(self, length, width):\n",
    "        self.length = length\n",
    "        self.width = width\n",
    "\n",
    "    def area(self):\n",
    "        return self.length * self.width\n",
    "\n",
    "    def perimeter(self):\n",
    "        return 2 * self.length + 2 * self.width"
   ]
  },
  {
   "cell_type": "markdown",
   "metadata": {},
   "source": [
    "Now, we can create a `square` class, which will be the same as the rectangle one but with one additional constraint: `width = length`. \n",
    "We will inherit the length argument from `Rectangle`, and set the second argument equal to the length:"
   ]
  },
  {
   "cell_type": "code",
   "execution_count": 27,
   "metadata": {},
   "outputs": [],
   "source": [
    "class Square(Rectangle):\n",
    "    def __init__(self, length):\n",
    "        super().__init__(length, length)"
   ]
  },
  {
   "cell_type": "markdown",
   "metadata": {},
   "source": [
    "```python\n",
    "class Square(Rectangle):```\n",
    "Creates the `Square` class, which will be a sub-class of `Rectangle`, which means it will inherit all of `Rectangle`'s methods and functions defined earlier.\n",
    "```python\n",
    "def __init__(self, length):```\n",
    "Sets the arguments required to initialize the class `Square`\n",
    "```python\n",
    "super().__init__(length, length)```\n",
    "`Superseeds` the arguments used in `Rectangle`, based on the ones needed to define `Square`."
   ]
  },
  {
   "cell_type": "markdown",
   "metadata": {},
   "source": [
    "- Now, we can create a `Square` instance, and call any of the functions defined for `Rectangle`."
   ]
  },
  {
   "cell_type": "code",
   "execution_count": 37,
   "metadata": {},
   "outputs": [
    {
     "name": "stdout",
     "output_type": "stream",
     "text": [
      "9\n",
      "12\n"
     ]
    }
   ],
   "source": [
    "a = Square(3)\n",
    "print(a.area())\n",
    "print(a.perimeter())"
   ]
  },
  {
   "cell_type": "markdown",
   "metadata": {},
   "source": [
    "# Appendix: built-in functions"
   ]
  },
  {
   "cell_type": "markdown",
   "metadata": {},
   "source": [
    "These functions are built in Python, and can be used for any class"
   ]
  },
  {
   "cell_type": "code",
   "execution_count": 9,
   "metadata": {},
   "outputs": [
    {
     "data": {
      "text/plain": [
       "True"
      ]
     },
     "execution_count": 9,
     "metadata": {},
     "output_type": "execute_result"
    }
   ],
   "source": [
    "instance = NameClass(12, 5)\n",
    "\n",
    "isinstance(instance, NameClass)"
   ]
  },
  {
   "cell_type": "markdown",
   "metadata": {},
   "source": [
    "```python\n",
    "isinstance()```\n",
    "checks if `instance` is an instance of `NameClass`, and returns `True`/`False` accordingly. (The instance we created is an instance of `NameClass`, therefore, `True` is returned)"
   ]
  },
  {
   "cell_type": "code",
   "execution_count": 24,
   "metadata": {},
   "outputs": [
    {
     "data": {
      "text/plain": [
       "True"
      ]
     },
     "execution_count": 24,
     "metadata": {},
     "output_type": "execute_result"
    }
   ],
   "source": [
    "class NameClass2(NameClass):\n",
    "    def __init__(self, first):\n",
    "        super().__init__(first, first)\n",
    "    \n",
    "issubclass(NameClass2, NameClass)"
   ]
  },
  {
   "cell_type": "markdown",
   "metadata": {},
   "source": [
    "```python\n",
    "issubclass()```\n",
    "checks if `NameClass2` is a subclass of `NameClass`, returning a `True`/`False` accordingly. Here, we have created `NameClass2` based on `NameClass`, therefore `issubclass` returns `True`."
   ]
  },
  {
   "cell_type": "code",
   "execution_count": null,
   "metadata": {},
   "outputs": [],
   "source": []
  }
 ],
 "metadata": {
  "kernelspec": {
   "display_name": "Python 3",
   "language": "python",
   "name": "python3"
  },
  "language_info": {
   "codemirror_mode": {
    "name": "ipython",
    "version": 3
   },
   "file_extension": ".py",
   "mimetype": "text/x-python",
   "name": "python",
   "nbconvert_exporter": "python",
   "pygments_lexer": "ipython3",
   "version": "3.7.3"
  }
 },
 "nbformat": 4,
 "nbformat_minor": 2
}
